{
 "cells": [
  {
   "cell_type": "code",
   "execution_count": 1,
   "metadata": {},
   "outputs": [],
   "source": [
    "import os\n",
    "import multiprocessing as mp\n",
    "import plotly.io as pio\n",
    "\n",
    "from JSS import default_dqn_config\n",
    "import wandb\n",
    "\n",
    "pio.orca.config.use_xvfb = True"
   ]
  },
  {
   "cell_type": "code",
   "execution_count": 2,
   "metadata": {},
   "outputs": [
    {
     "name": "stdout",
     "output_type": "stream",
     "text": [
      "I have detected 80 CPUs here, so I'm going to create 80 actors\n"
     ]
    }
   ],
   "source": [
    "print(\"I have detected {} CPUs here, so I'm going to create {} actors\".format(mp.cpu_count(), mp.cpu_count()))\n",
    "os.environ[\"WANDB_API_KEY\"] = '3487a01956bf67cc7882bca2a38f70c8c95f8463'\n",
    "config = default_dqn_config.config\n",
    "\n",
    "sweep_config = {\n",
    "        'program': 'dqn-multi.py',\n",
    "        'method': 'grid',\n",
    "        'metric': {\n",
    "            'name': 'score',\n",
    "            'goal': 'maximize',\n",
    "        },\n",
    "        'parameters': {\n",
    "            'layer_size': {\n",
    "                'values': [4096, 6144, 8124]\n",
    "            },\n",
    "            'learning_rate': {\n",
    "                'values': [1e-3, 5e-4]\n",
    "            },\n",
    "            'layer_nb': {\n",
    "                'values': [2, 3]\n",
    "            }\n",
    "        }\n",
    "}"
   ]
  },
  {
   "cell_type": "code",
   "execution_count": 3,
   "metadata": {},
   "outputs": [
    {
     "name": "stdout",
     "output_type": "stream",
     "text": [
      "Create sweep with ID: 5mvhajs0\n",
      "Sweep URL: https://wandb.ai/ingambe/jss-rl/sweeps/5mvhajs0\n"
     ]
    }
   ],
   "source": [
    "sweep_id = wandb.sweep(sweep_config, project=\"jss-rl\")"
   ]
  },
  {
   "cell_type": "code",
   "execution_count": 4,
   "metadata": {},
   "outputs": [
    {
     "name": "stdout",
     "output_type": "stream",
     "text": [
      "\u001b[34m\u001b[1mwandb\u001b[0m: Starting wandb agent 🕵️\n",
      "2020-10-04 10:40:19,950 - wandb.wandb_agent - INFO - Running runs: []\n",
      "2020-10-04 10:40:20,261 - wandb.wandb_agent - INFO - Agent received command: run\n",
      "2020-10-04 10:40:20,262 - wandb.wandb_agent - INFO - Agent starting run with config:\n",
      "\tlayer_nb: 2\n",
      "\tlayer_size: 4096\n",
      "\tlearning_rate: 0.001\n",
      "2020-10-04 10:40:20,264 - wandb.wandb_agent - INFO - About to run command: /usr/bin/env python dqn.py --layer_nb=2 --layer_size=4096 --learning_rate=0.001\n",
      "\u001b[34m\u001b[1mwandb\u001b[0m: Currently logged in as: \u001b[33mingambe\u001b[0m (use `wandb login --relogin` to force relogin)\n",
      "\u001b[34m\u001b[1mwandb\u001b[0m: Tracking run with wandb version 0.10.4\n",
      "\u001b[34m\u001b[1mwandb\u001b[0m: Syncing run \u001b[33msolar-sweep-1\u001b[0m\n",
      "\u001b[34m\u001b[1mwandb\u001b[0m: ⭐️ View project at \u001b[34m\u001b[4mhttps://wandb.ai/ingambe/jss-rl\u001b[0m\n",
      "\u001b[34m\u001b[1mwandb\u001b[0m: 🧹 View sweep at \u001b[34m\u001b[4mhttps://wandb.ai/ingambe/jss-rl/sweeps/5mvhajs0\u001b[0m\n",
      "\u001b[34m\u001b[1mwandb\u001b[0m: 🚀 View run at \u001b[34m\u001b[4mhttps://wandb.ai/ingambe/jss-rl/runs/lkgmdmre\u001b[0m\n",
      "\u001b[34m\u001b[1mwandb\u001b[0m: Run data is saved locally in wandb/run-20201004_104023-lkgmdmre\n",
      "\u001b[34m\u001b[1mwandb\u001b[0m: Run `wandb off` to turn off syncing.\n",
      "\n",
      "Traceback (most recent call last):\n",
      "  File \"dqn.py\", line 292, in <module>\n",
      "    dqn()\n",
      "  File \"dqn.py\", line 120, in dqn\n",
      "    envs = [make_seeded_env(i, env_name, seed, max_steps_per_episode, {'instance_path': config['instance']}) for i in range(nb_actors)]\n",
      "  File \"dqn.py\", line 120, in <listcomp>\n",
      "    envs = [make_seeded_env(i, env_name, seed, max_steps_per_episode, {'instance_path': config['instance']}) for i in range(nb_actors)]\n",
      "  File \"/opt/conda/lib/python3.8/site-packages/wandb/sdk/wandb_config.py\", line 54, in __getitem__\n",
      "    return self._items[key]\n",
      "KeyError: 'instance'\n",
      "\n",
      "\u001b[34m\u001b[1mwandb\u001b[0m: Waiting for W&B process to finish, PID 18724\n",
      "\u001b[34m\u001b[1mwandb\u001b[0m: Program failed with code 1.  Press ctrl-c to abort syncing.\n",
      "2020-10-04 10:40:25,283 - wandb.wandb_agent - INFO - Running runs: ['lkgmdmre']\n",
      "\u001b[34m\u001b[1mwandb\u001b[0m:                                                                                \n",
      "\u001b[34m\u001b[1mwandb\u001b[0m: Find user logs for this run at: wandb/run-20201004_104023-lkgmdmre/logs/debug.log\n",
      "\u001b[34m\u001b[1mwandb\u001b[0m: Find internal logs for this run at: wandb/run-20201004_104023-lkgmdmre/logs/debug-internal.log\n",
      "\u001b[34m\u001b[1mwandb\u001b[0m: Synced 6 W&B file(s), 0 media file(s), 0 artifact file(s) and 1 other file(s)\n",
      "\u001b[34m\u001b[1mwandb\u001b[0m: \n",
      "\u001b[34m\u001b[1mwandb\u001b[0m: Synced \u001b[33msolar-sweep-1\u001b[0m: \u001b[34mhttps://wandb.ai/ingambe/jss-rl/runs/lkgmdmre\u001b[0m\n",
      "2020-10-04 10:40:30,490 - wandb.wandb_agent - INFO - Cleaning up finished run: lkgmdmre\n",
      "2020-10-04 10:40:30,784 - wandb.wandb_agent - INFO - Agent received command: run\n",
      "2020-10-04 10:40:30,784 - wandb.wandb_agent - INFO - Agent starting run with config:\n",
      "\tlayer_nb: 2\n",
      "\tlayer_size: 4096\n",
      "\tlearning_rate: 0.0005\n",
      "2020-10-04 10:40:30,787 - wandb.wandb_agent - INFO - About to run command: /usr/bin/env python dqn.py --layer_nb=2 --layer_size=4096 --learning_rate=0.0005\n",
      "\u001b[34m\u001b[1mwandb\u001b[0m: Currently logged in as: \u001b[33mingambe\u001b[0m (use `wandb login --relogin` to force relogin)\n",
      "2020-10-04 10:40:35,802 - wandb.wandb_agent - INFO - Running runs: ['lvtoy1zl']\n",
      "\u001b[34m\u001b[1mwandb\u001b[0m: Tracking run with wandb version 0.10.4\n",
      "\u001b[34m\u001b[1mwandb\u001b[0m: Syncing run \u001b[33mautumn-sweep-2\u001b[0m\n",
      "\u001b[34m\u001b[1mwandb\u001b[0m: ⭐️ View project at \u001b[34m\u001b[4mhttps://wandb.ai/ingambe/jss-rl\u001b[0m\n",
      "\u001b[34m\u001b[1mwandb\u001b[0m: 🧹 View sweep at \u001b[34m\u001b[4mhttps://wandb.ai/ingambe/jss-rl/sweeps/5mvhajs0\u001b[0m\n",
      "\u001b[34m\u001b[1mwandb\u001b[0m: 🚀 View run at \u001b[34m\u001b[4mhttps://wandb.ai/ingambe/jss-rl/runs/lvtoy1zl\u001b[0m\n",
      "\u001b[34m\u001b[1mwandb\u001b[0m: Run data is saved locally in wandb/run-20201004_104034-lvtoy1zl\n",
      "\u001b[34m\u001b[1mwandb\u001b[0m: Run `wandb off` to turn off syncing.\n",
      "\n",
      "Traceback (most recent call last):\n",
      "\n",
      "\u001b[34m\u001b[1mwandb\u001b[0m: Waiting for W&B process to finish, PID 18929\n",
      "\u001b[34m\u001b[1mwandb\u001b[0m: Program failed with code 1.  Press ctrl-c to abort syncing.\n",
      "\u001b[34m\u001b[1mwandb\u001b[0m:                                                                                \n",
      "\u001b[34m\u001b[1mwandb\u001b[0m: Find user logs for this run at: wandb/run-20201004_104034-lvtoy1zl/logs/debug.log\n",
      "\u001b[34m\u001b[1mwandb\u001b[0m: Find internal logs for this run at: wandb/run-20201004_104034-lvtoy1zl/logs/debug-internal.log\n",
      "\u001b[34m\u001b[1mwandb\u001b[0m: Synced 6 W&B file(s), 0 media file(s), 0 artifact file(s) and 1 other file(s)\n",
      "\u001b[34m\u001b[1mwandb\u001b[0m: \n",
      "\u001b[34m\u001b[1mwandb\u001b[0m: Synced \u001b[33mautumn-sweep-2\u001b[0m: \u001b[34mhttps://wandb.ai/ingambe/jss-rl/runs/lvtoy1zl\u001b[0m\n",
      "2020-10-04 10:40:41,014 - wandb.wandb_agent - INFO - Cleaning up finished run: lvtoy1zl\n",
      "2020-10-04 10:40:41,336 - wandb.wandb_agent - INFO - Agent received command: run\n",
      "2020-10-04 10:40:41,336 - wandb.wandb_agent - INFO - Agent starting run with config:\n",
      "\tlayer_nb: 2\n",
      "\tlayer_size: 6144\n",
      "\tlearning_rate: 0.001\n",
      "2020-10-04 10:40:41,340 - wandb.wandb_agent - INFO - About to run command: /usr/bin/env python dqn.py --layer_nb=2 --layer_size=6144 --learning_rate=0.001\n",
      "\u001b[34m\u001b[1mwandb\u001b[0m: Currently logged in as: \u001b[33mingambe\u001b[0m (use `wandb login --relogin` to force relogin)\n",
      "2020-10-04 10:40:46,362 - wandb.wandb_agent - INFO - Running runs: ['r3pnxfl8']\n",
      "\u001b[34m\u001b[1mwandb\u001b[0m: Tracking run with wandb version 0.10.4\n",
      "\u001b[34m\u001b[1mwandb\u001b[0m: Syncing run \u001b[33mfaithful-sweep-3\u001b[0m\n",
      "\u001b[34m\u001b[1mwandb\u001b[0m: ⭐️ View project at \u001b[34m\u001b[4mhttps://wandb.ai/ingambe/jss-rl\u001b[0m\n",
      "\u001b[34m\u001b[1mwandb\u001b[0m: 🧹 View sweep at \u001b[34m\u001b[4mhttps://wandb.ai/ingambe/jss-rl/sweeps/5mvhajs0\u001b[0m\n",
      "\u001b[34m\u001b[1mwandb\u001b[0m: 🚀 View run at \u001b[34m\u001b[4mhttps://wandb.ai/ingambe/jss-rl/runs/r3pnxfl8\u001b[0m\n",
      "\u001b[34m\u001b[1mwandb\u001b[0m: Run data is saved locally in wandb/run-20201004_104045-r3pnxfl8\n",
      "\u001b[34m\u001b[1mwandb\u001b[0m: Run `wandb off` to turn off syncing.\n",
      "\n",
      "Traceback (most recent call last):\n",
      "  File \"dqn.py\", line 292, in <module>\n",
      "    dqn()\n",
      "  File \"dqn.py\", line 120, in dqn\n",
      "    envs = [make_seeded_env(i, env_name, seed, max_steps_per_episode, {'instance_path': config['instance']}) for i in range(nb_actors)]\n",
      "  File \"dqn.py\", line 120, in <listcomp>\n",
      "    envs = [make_seeded_env(i, env_name, seed, max_steps_per_episode, {'instance_path': config['instance']}) for i in range(nb_actors)]\n",
      "  File \"/opt/conda/lib/python3.8/site-packages/wandb/sdk/wandb_config.py\", line 54, in __getitem__\n",
      "    return self._items[key]\n",
      "KeyError: 'instance'\n",
      "\n",
      "\u001b[34m\u001b[1mwandb\u001b[0m: Waiting for W&B process to finish, PID 19134\n",
      "\u001b[34m\u001b[1mwandb\u001b[0m: Program failed with code 1.  Press ctrl-c to abort syncing.\n",
      "\u001b[34m\u001b[1mwandb\u001b[0m: - 0.00MB of 0.70MB uploaded (0.00MB deduped)\r"
     ]
    }
   ],
   "source": [
    "!wandb agent 5mvhajs0"
   ]
  },
  {
   "cell_type": "code",
   "execution_count": null,
   "metadata": {},
   "outputs": [],
   "source": []
  }
 ],
 "metadata": {
  "kernelspec": {
   "display_name": "Python 3",
   "language": "python",
   "name": "python3"
  },
  "language_info": {
   "codemirror_mode": {
    "name": "ipython",
    "version": 3
   },
   "file_extension": ".py",
   "mimetype": "text/x-python",
   "name": "python",
   "nbconvert_exporter": "python",
   "pygments_lexer": "ipython3",
   "version": "3.8.5"
  }
 },
 "nbformat": 4,
 "nbformat_minor": 4
}
