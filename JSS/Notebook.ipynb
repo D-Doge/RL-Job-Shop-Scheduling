{
 "cells": [
  {
   "cell_type": "code",
   "execution_count": 1,
   "metadata": {},
   "outputs": [],
   "source": [
    "import os\n",
    "import multiprocessing as mp\n",
    "import plotly.io as pio\n",
    "\n",
    "from JSS import default_dqn_config\n",
    "import wandb\n",
    "\n",
    "pio.orca.config.use_xvfb = True"
   ]
  },
  {
   "cell_type": "code",
   "execution_count": 2,
   "metadata": {},
   "outputs": [
    {
     "name": "stdout",
     "output_type": "stream",
     "text": [
      "I have detected 80 CPUs here, so I'm going to create 80 actors\n"
     ]
    }
   ],
   "source": [
    "print(\"I have detected {} CPUs here, so I'm going to create {} actors\".format(mp.cpu_count(), mp.cpu_count()))\n",
    "os.environ[\"WANDB_API_KEY\"] = '3487a01956bf67cc7882bca2a38f70c8c95f8463'\n",
    "config = default_dqn_config.config\n",
    "\n",
    "sweep_config = {\n",
    "        'program': 'dqn.py',\n",
    "        'method': 'grid',\n",
    "        'metric': {\n",
    "            'name': 'score',\n",
    "            'goal': 'maximize',\n",
    "        },\n",
    "        'parameters': {\n",
    "            'layer_size': {\n",
    "                'values': [4096, 8124]\n",
    "            },\n",
    "            'learning_rate': {\n",
    "                'values': [1e-3, 5e-4]\n",
    "            }\n",
    "        }\n",
    "}"
   ]
  },
  {
   "cell_type": "code",
   "execution_count": 3,
   "metadata": {},
   "outputs": [
    {
     "name": "stdout",
     "output_type": "stream",
     "text": [
      "Create sweep with ID: fiol70y5\n",
      "Sweep URL: https://wandb.ai/ingambe/jss-rl/sweeps/fiol70y5\n"
     ]
    }
   ],
   "source": [
    "sweep_id = wandb.sweep(sweep_config, project=\"jss-rl\")"
   ]
  },
  {
   "cell_type": "code",
   "execution_count": 4,
   "metadata": {},
   "outputs": [
    {
     "name": "stdout",
     "output_type": "stream",
     "text": [
      "\u001b[34m\u001b[1mwandb\u001b[0m: Starting wandb agent 🕵️\n",
      "2020-10-04 10:20:01,685 - wandb.wandb_agent - INFO - Running runs: []\n",
      "2020-10-04 10:20:02,073 - wandb.wandb_agent - INFO - Agent received command: run\n",
      "2020-10-04 10:20:02,073 - wandb.wandb_agent - INFO - Agent starting run with config:\n",
      "\tlayer_nb: 2\n",
      "\tlayer_size: 1024\n",
      "\tlearning_rate: 0.0005\n",
      "2020-10-04 10:20:02,076 - wandb.wandb_agent - INFO - About to run command: /usr/bin/env python dqn.py --layer_nb=2 --layer_size=1024 --learning_rate=0.0005\n",
      "\u001b[34m\u001b[1mwandb\u001b[0m: Currently logged in as: \u001b[33mingambe\u001b[0m (use `wandb login --relogin` to force relogin)\n",
      "\u001b[34m\u001b[1mwandb\u001b[0m: Tracking run with wandb version 0.10.4\n",
      "\u001b[34m\u001b[1mwandb\u001b[0m: Syncing run \u001b[33mhopeful-sweep-1\u001b[0m\n",
      "\u001b[34m\u001b[1mwandb\u001b[0m: ⭐️ View project at \u001b[34m\u001b[4mhttps://wandb.ai/ingambe/jss-rl\u001b[0m\n",
      "\u001b[34m\u001b[1mwandb\u001b[0m: 🧹 View sweep at \u001b[34m\u001b[4mhttps://wandb.ai/ingambe/jss-rl/sweeps/fiol70y5\u001b[0m\n",
      "\u001b[34m\u001b[1mwandb\u001b[0m: 🚀 View run at \u001b[34m\u001b[4mhttps://wandb.ai/ingambe/jss-rl/runs/ntw8ri2s\u001b[0m\n",
      "\u001b[34m\u001b[1mwandb\u001b[0m: Run data is saved locally in wandb/run-20201004_102003-ntw8ri2s\n",
      "\u001b[34m\u001b[1mwandb\u001b[0m: Run `wandb off` to turn off syncing.\n",
      "\n",
      "2020-10-04 10:20:07,094 - wandb.wandb_agent - INFO - Running runs: ['ntw8ri2s']\n"
     ]
    }
   ],
   "source": [
    "!wandb agent fiol70y5"
   ]
  },
  {
   "cell_type": "code",
   "execution_count": null,
   "metadata": {},
   "outputs": [],
   "source": []
  }
 ],
 "metadata": {
  "kernelspec": {
   "display_name": "Python 3",
   "language": "python",
   "name": "python3"
  },
  "language_info": {
   "codemirror_mode": {
    "name": "ipython",
    "version": 3
   },
   "file_extension": ".py",
   "mimetype": "text/x-python",
   "name": "python",
   "nbconvert_exporter": "python",
   "pygments_lexer": "ipython3",
   "version": "3.8.5"
  }
 },
 "nbformat": 4,
 "nbformat_minor": 4
}
